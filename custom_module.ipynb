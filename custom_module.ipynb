{
 "cells": [
  {
   "cell_type": "code",
   "execution_count": 5,
   "id": "b39def06-7bd2-470a-803a-37a65a4c5b8b",
   "metadata": {},
   "outputs": [
    {
     "data": {
      "text/plain": [
       "10"
      ]
     },
     "execution_count": 5,
     "metadata": {},
     "output_type": "execute_result"
    }
   ],
   "source": [
    "import cal_function\n",
    "cal_function.sum(5,5)"
   ]
  },
  {
   "cell_type": "code",
   "execution_count": 1,
   "id": "cad69133-6e78-436b-93aa-3008890347d1",
   "metadata": {},
   "outputs": [
    {
     "data": {
      "text/plain": [
       "0"
      ]
     },
     "execution_count": 1,
     "metadata": {},
     "output_type": "execute_result"
    }
   ],
   "source": [
    "import cal_function\n",
    "cal_function.sub(5,5)"
   ]
  },
  {
   "cell_type": "code",
   "execution_count": 2,
   "id": "5e36449d-c779-428b-a7b9-8c6f0c1dd736",
   "metadata": {},
   "outputs": [
    {
     "data": {
      "text/plain": [
       "25"
      ]
     },
     "execution_count": 2,
     "metadata": {},
     "output_type": "execute_result"
    }
   ],
   "source": [
    "import cal_function\n",
    "cal_function.pro(5,5)"
   ]
  },
  {
   "cell_type": "code",
   "execution_count": 1,
   "id": "b8d895ff-fc63-46d9-a376-451c0a2be104",
   "metadata": {},
   "outputs": [
    {
     "data": {
      "text/plain": [
       "120"
      ]
     },
     "execution_count": 1,
     "metadata": {},
     "output_type": "execute_result"
    }
   ],
   "source": [
    "import cal_function\n",
    "cal_function.fact(5)"
   ]
  },
  {
   "cell_type": "code",
   "execution_count": 1,
   "id": "f1847b28-3278-40b3-91d1-d4c699179e22",
   "metadata": {},
   "outputs": [
    {
     "data": {
      "text/plain": [
       "14"
      ]
     },
     "execution_count": 1,
     "metadata": {},
     "output_type": "execute_result"
    }
   ],
   "source": [
    "import cal_function\n",
    "cal_function.even(5,8)"
   ]
  },
  {
   "cell_type": "code",
   "execution_count": 1,
   "id": "d7534d46-3458-425b-9d12-c8a7bcad3848",
   "metadata": {},
   "outputs": [
    {
     "name": "stdout",
     "output_type": "stream",
     "text": [
      "0 1 1 2 3 5 8 13 21 34 "
     ]
    }
   ],
   "source": [
    "import cal_function\n",
    "cal_function.fib(10)"
   ]
  },
  {
   "cell_type": "code",
   "execution_count": null,
   "id": "f1d06954-196f-4f42-a478-8fc0f0760dd3",
   "metadata": {},
   "outputs": [],
   "source": []
  }
 ],
 "metadata": {
  "kernelspec": {
   "display_name": "Python 3 (ipykernel)",
   "language": "python",
   "name": "python3"
  },
  "language_info": {
   "codemirror_mode": {
    "name": "ipython",
    "version": 3
   },
   "file_extension": ".py",
   "mimetype": "text/x-python",
   "name": "python",
   "nbconvert_exporter": "python",
   "pygments_lexer": "ipython3",
   "version": "3.12.4"
  }
 },
 "nbformat": 4,
 "nbformat_minor": 5
}
